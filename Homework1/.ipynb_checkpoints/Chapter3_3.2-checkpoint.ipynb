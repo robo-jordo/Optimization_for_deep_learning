{
 "cells": [
  {
   "cell_type": "markdown",
   "metadata": {},
   "source": [
    "# Question 3.2"
   ]
  },
  {
   "cell_type": "markdown",
   "metadata": {},
   "source": [
    "$$g(w) = a +b^Tw + w^TCw$$"
   ]
  },
  {
   "cell_type": "markdown",
   "metadata": {},
   "source": [
    "\\begin{equation*}\n",
    "c =  \\frac{1}{\\beta}I \n",
    "\\end{equation*}\n",
    "\\begin{equation*}\n",
    "\\beta>0\n",
    "\\end{equation*}"
   ]
  },
  {
   "cell_type": "markdown",
   "metadata": {},
   "source": [
    "$$g'(v) = 2Cw+b$$"
   ]
  },
  {
   "cell_type": "markdown",
   "metadata": {},
   "source": [
    "The gradient is zero at stationary points"
   ]
  },
  {
   "cell_type": "markdown",
   "metadata": {},
   "source": [
    "$$g'(v) = 2Cw+b = 0$$\n",
    "$$ 2Cw = -b$$\n",
    "$$ Cw = -\\frac{b}{2}$$"
   ]
  },
  {
   "cell_type": "markdown",
   "metadata": {},
   "source": [
    "What will this solution look like?"
   ]
  },
  {
   "cell_type": "markdown",
   "metadata": {},
   "source": [
    "\\begin{equation*}\n",
    "\\begin{vmatrix}\n",
    "\\frac{1}{\\beta} & 0 & 0 & \\ldots & 0 \\\\\n",
    "0 & \\frac{1}{\\beta} & 0 & \\ldots & 0 \\\\\n",
    "0 & 0 &  \\frac{1}{\\beta} & \\ldots & 0 \\\\\n",
    "\\vdots & \\vdots &  \\vdots & \\ddots & \\vdots \\\\\n",
    "0 & 0 & 0 & \\ldots & \\frac{1}{\\beta} \\\\\n",
    "\\end{vmatrix}\n",
    "\\begin{vmatrix}\n",
    "w_0 \\\\\n",
    "w_1 \\\\\n",
    "w_2 \\\\\n",
    "\\vdots \\\\\n",
    "w_n\n",
    "\\end{vmatrix} = (\\frac{1}{2})\n",
    "\\begin{vmatrix}\n",
    "b_0 \\\\\n",
    "b_1 \\\\\n",
    "b_2 \\\\\n",
    "\\vdots \\\\\n",
    "b_n\n",
    "\\end{vmatrix}\n",
    "\\end{equation*}"
   ]
  },
  {
   "cell_type": "markdown",
   "metadata": {},
   "source": [
    "The result of this is a simple equality for each w where it does not need the solving of a linear set of equations but rather each w is equal to the corresponding b multiplies by beta and halved i.e.\n"
   ]
  },
  {
   "cell_type": "markdown",
   "metadata": {},
   "source": [
    "\\begin{equation*}\n",
    "w_0 = \\frac{\\beta}{2}b_0\n",
    "\\end{equation*}\n",
    "\\begin{equation*}\n",
    "w_1 = \\frac{\\beta}{2}b_1\n",
    "\\end{equation*}\n",
    "\\begin{equation*}\n",
    "w_2 = \\frac{\\beta}{2}b_2\n",
    "\\end{equation*}\n",
    "\n",
    "and so on"
   ]
  }
 ],
 "metadata": {
  "kernelspec": {
   "display_name": "Python 3",
   "language": "python",
   "name": "python3"
  },
  "language_info": {
   "codemirror_mode": {
    "name": "ipython",
    "version": 3
   },
   "file_extension": ".py",
   "mimetype": "text/x-python",
   "name": "python",
   "nbconvert_exporter": "python",
   "pygments_lexer": "ipython3",
   "version": "3.6.5"
  }
 },
 "nbformat": 4,
 "nbformat_minor": 2
}
