{
 "cells": [
  {
   "cell_type": "markdown",
   "metadata": {},
   "source": [
    "# Question 3.1"
   ]
  },
  {
   "cell_type": "markdown",
   "metadata": {},
   "source": [
    "a) $$g(w) = (1/2)w^TBw+c^Tw$$"
   ]
  },
  {
   "cell_type": "markdown",
   "metadata": {},
   "source": [
    "\\begin{equation*}\n",
    "B =  \\begin{vmatrix}\n",
    "2 & 1 \\\\\n",
    "1 & 3 \\\\\n",
    "\\end{vmatrix}\n",
    "\\end{equation*}\n",
    "\n",
    "\\begin{equation*}\n",
    "c =  \\begin{vmatrix}\n",
    "1 \\\\\n",
    "1 \\\\\n",
    "\\end{vmatrix}\n",
    "\\end{equation*}"
   ]
  },
  {
   "cell_type": "markdown",
   "metadata": {},
   "source": [
    "$$g'(v) = Bw+c$$"
   ]
  },
  {
   "cell_type": "markdown",
   "metadata": {},
   "source": [
    "\\begin{equation*}\n",
    "\\begin{vmatrix}\n",
    "2 & 1 \\\\\n",
    "1 & 3 \\\\ \n",
    "\\end{vmatrix} *\n",
    "\\begin{vmatrix}\n",
    "w_0 \\\\\n",
    "w_1 \\\\ \n",
    "\\end{vmatrix}\n",
    "+\n",
    "\\begin{vmatrix}\n",
    "1 \\\\\n",
    "1 \\\\ \n",
    "\\end{vmatrix} = 0\n",
    "\\end{equation*}"
   ]
  },
  {
   "cell_type": "markdown",
   "metadata": {},
   "source": [
    "$$ 2w_0 + w_1 +1 = 0 $$\n",
    "$$ w_0 + 3w_1 +1 = 0 $$\n",
    "\n",
    "$$ w_0 = -0.4 $$\n",
    "$$ w_1 = -0.2 $$"
   ]
  },
  {
   "cell_type": "markdown",
   "metadata": {},
   "source": [
    "b) $$g(w) = wlog(w)+(1-w)log(1-w)$$\n",
    "where w lies between 0 and 1"
   ]
  },
  {
   "cell_type": "markdown",
   "metadata": {},
   "source": [
    "\\begin{equation*}\n",
    "g'(w) = log(w)+w( \\frac{1}{w} )-(\\frac{1}{1-w})(1-w)-log(1-w)\n",
    "\\end{equation*}\n",
    "\n",
    "\\begin{equation*}\n",
    "g'(w) = log(w)+1-1-log(1-w)\n",
    "\\end{equation*}\n",
    "\n",
    "\\begin{equation*}\n",
    "g'(w) = log(w)-log(1-w)\n",
    "\\end{equation*}\n",
    "\n",
    "\\begin{equation*}\n",
    "log(w)-log(1-w) = log(\\frac{w}{1-w})\n",
    "\\end{equation*}\n",
    "\n",
    "min is at \n",
    "\n",
    "\\begin{equation*}\n",
    "log(w)-log(1-w) = 0\n",
    "\\end{equation*}\n",
    "\n",
    "\n",
    "\n",
    "we know:\n",
    "\\begin{equation*}\n",
    "log(0) = -\\infty\n",
    "\\end{equation*}\n",
    "\\begin{equation*}\n",
    "log(1) = 0\n",
    "\\end{equation*}\n",
    "\n",
    "therefore:\n",
    "\n",
    "\\begin{equation*}\n",
    "\\frac{w}{1-w} = 1\n",
    "\\end{equation*}\n",
    "\\begin{equation*}\n",
    "w = 1-w\n",
    "\\end{equation*}\n",
    "\\begin{equation*}\n",
    "2w = 1\n",
    "\\end{equation*}\n",
    "\\begin{equation*}\n",
    "w = \\frac{1}{2}\n",
    "\\end{equation*}"
   ]
  },
  {
   "cell_type": "markdown",
   "metadata": {},
   "source": [
    "c) $$g(w) = log(1+e^w)$$"
   ]
  },
  {
   "cell_type": "markdown",
   "metadata": {},
   "source": [
    "\\begin{equation*}\n",
    "g'(w) = \\frac{1}{1+e^w}(e^w)\n",
    "\\end{equation*}"
   ]
  },
  {
   "cell_type": "markdown",
   "metadata": {},
   "source": [
    "For stationary point\n",
    "\\begin{equation*}\n",
    "g'(w) = \\frac{e^w}{1+e^w} = 0\n",
    "\\end{equation*}\n"
   ]
  },
  {
   "cell_type": "markdown",
   "metadata": {},
   "source": [
    "This is zero when: $$ e^w=0 $$ "
   ]
  },
  {
   "cell_type": "markdown",
   "metadata": {},
   "source": [
    "Therefore the minima lies at $$ w = -\\infty$$"
   ]
  },
  {
   "cell_type": "markdown",
   "metadata": {},
   "source": [
    "d) $$g(w) = wtanh(w)$$"
   ]
  },
  {
   "cell_type": "markdown",
   "metadata": {},
   "source": [
    "\\begin{equation*}\n",
    "g'(w) = tanh(w)+wsech^2(w)\n",
    "\\end{equation*}"
   ]
  },
  {
   "cell_type": "markdown",
   "metadata": {},
   "source": [
    "\\begin{equation*}\n",
    "g'(w) = \\frac{sinh(x)}{cosh(x)+1}+w\\frac{2}{cosh(x)+1}\n",
    "\\end{equation*}"
   ]
  },
  {
   "cell_type": "markdown",
   "metadata": {},
   "source": [
    "At stationary point this is equal to zero\n",
    "\\begin{equation*}\n",
    "0 = \\frac{sinh(2x)}{cosh(2x)+1}+w\\frac{2}{cosh(2x)+1}\n",
    "\\end{equation*}\n",
    "\\begin{equation*}\n",
    "0 = sinh(2x)+2w\n",
    "\\end{equation*}\n",
    "\\begin{equation*}\n",
    "sinh(2x)= -2w\n",
    "\\end{equation*}\n",
    "\\begin{equation*}\n",
    "w = 0\n",
    "\\end{equation*}"
   ]
  },
  {
   "cell_type": "code",
   "execution_count": null,
   "metadata": {},
   "outputs": [],
   "source": []
  }
 ],
 "metadata": {
  "kernelspec": {
   "display_name": "Python 3",
   "language": "python",
   "name": "python3"
  },
  "language_info": {
   "codemirror_mode": {
    "name": "ipython",
    "version": 3
   },
   "file_extension": ".py",
   "mimetype": "text/x-python",
   "name": "python",
   "nbconvert_exporter": "python",
   "pygments_lexer": "ipython3",
   "version": "3.6.5"
  }
 },
 "nbformat": 4,
 "nbformat_minor": 2
}
