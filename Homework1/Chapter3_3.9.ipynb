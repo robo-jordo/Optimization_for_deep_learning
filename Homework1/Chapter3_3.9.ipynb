{
 "cells": [
  {
   "cell_type": "markdown",
   "metadata": {},
   "source": [
    "# exercise 3.9"
   ]
  },
  {
   "cell_type": "markdown",
   "metadata": {},
   "source": [
    "Oscillation in the cost function history plot\n",
    "\n",
    "Repeat the experiment described in Example 1.15, producing cost function\n",
    "history plot shown in the bottom panel of Figure 1.14."
   ]
  },
  {
   "cell_type": "markdown",
   "metadata": {},
   "source": [
    "Run gradient descent on the following function\n",
    "\n",
    "$$g(w)=w_0^2+w_1^2+2sin(1.5(w_0+w_1))^2+2$$\n",
    "\n",
    "start at w=(3,3) and take 10 steps\n",
    "\n",
    "try steplengths of:\n",
    "$$\\alpha = 1$$\n",
    "$$\\alpha = 10^{-1}$$\n",
    "$$\\alpha = 10^{-2}$$"
   ]
  },
  {
   "cell_type": "markdown",
   "metadata": {},
   "source": [
    "Import autograd"
   ]
  },
  {
   "cell_type": "code",
   "execution_count": 71,
   "metadata": {},
   "outputs": [],
   "source": [
    "# the import statement for matplotlib\n",
    "# import statment for gradient calculator\n",
    "from autograd import grad    \n",
    "import matplotlib.pyplot as plt\n",
    "import autograd.numpy as np  \n",
    "import math\n",
    "from matplotlib import ticker, cm"
   ]
  },
  {
   "cell_type": "markdown",
   "metadata": {},
   "source": [
    "Create a function to mimic the mathematical function being used"
   ]
  },
  {
   "cell_type": "code",
   "execution_count": 72,
   "metadata": {},
   "outputs": [],
   "source": [
    "def g(w):\n",
    "    evaluation = (w[0]**2+w[1]**2+2*(np.sin(1.5*(w[0]+w[1])))**2+2)\n",
    "    return evaluation"
   ]
  },
  {
   "cell_type": "code",
   "execution_count": 73,
   "metadata": {},
   "outputs": [
    {
     "data": {
      "text/plain": [
       "array([[4],\n",
       "       [4]])"
      ]
     },
     "execution_count": 73,
     "metadata": {},
     "output_type": "execute_result"
    }
   ],
   "source": [
    "w = np.array([[3],[3]])\n",
    "grad_g = grad(g)\n",
    "grad_g(w)"
   ]
  },
  {
   "cell_type": "code",
   "execution_count": 74,
   "metadata": {},
   "outputs": [
    {
     "data": {
      "image/png": "[encoded data removed]",
      "text/plain": [
       "<Figure size 432x288 with 2 Axes>"
      ]
     },
     "metadata": {},
     "output_type": "display_data"
    }
   ],
   "source": [
    "N = 100\n",
    "x = np.linspace(-4.0, 4.0, N)\n",
    "y = np.linspace(-4.0, 4.0, N)\n",
    "\n",
    "X, Y = np.meshgrid(x, y)\n",
    "inp = (X,Y)\n",
    "z = g(inp)\n",
    "fig, ax = plt.subplots()\n",
    "cs = ax.contourf(X, Y, z, levels=[0,1,2,4,5,10,20,30,40], cmap=cm.PuBu_r)\n",
    "cbar = fig.colorbar(cs)\n",
    "plt.show()"
   ]
  },
  {
   "cell_type": "markdown",
   "metadata": {},
   "source": [
    "Create function to mimic the gradient of g"
   ]
  },
  {
   "cell_type": "markdown",
   "metadata": {},
   "source": [
    "Write the gradient descent function"
   ]
  },
  {
   "cell_type": "code",
   "execution_count": 75,
   "metadata": {},
   "outputs": [],
   "source": [
    "def gradient_descent(alpha,max_its,w_start):\n",
    "    w = w_start\n",
    "    weight_history = [w_start]\n",
    "    cost_history = [g(w_start)]\n",
    "    for i in range(max_its):\n",
    "        grad_g = grad(g)\n",
    "        grad_eval = grad_g(w)\n",
    "        w = w - alpha*grad_eval\n",
    "        weight_history.append(w)\n",
    "        cost_history.append(g(w))\n",
    "    return cost_history"
   ]
  },
  {
   "cell_type": "markdown",
   "metadata": {},
   "source": [
    "Gradient descent with alpha = 0.01"
   ]
  },
  {
   "cell_type": "code",
   "execution_count": 76,
   "metadata": {},
   "outputs": [],
   "source": [
    "w_start = np.array([[3,3]])\n",
    "w_start = np.transpose(w_start)\n",
    "costs1 = gradient_descent(0.01,10,w_start)"
   ]
  },
  {
   "cell_type": "markdown",
   "metadata": {},
   "source": [
    "Gradient descent with alpha = 0.1"
   ]
  },
  {
   "cell_type": "code",
   "execution_count": 77,
   "metadata": {},
   "outputs": [],
   "source": [
    "costs2 = gradient_descent(0.1,10,w_start)"
   ]
  },
  {
   "cell_type": "markdown",
   "metadata": {},
   "source": [
    "Gradient descent with alpha = 1\n",
    "Note setting the alpha to exactly 1 here did not acheive oscillations but setting a to be very close to 1 did"
   ]
  },
  {
   "cell_type": "code",
   "execution_count": 78,
   "metadata": {},
   "outputs": [],
   "source": [
    "costs3 = gradient_descent(2.0/3+1.0/3,10,w_start)"
   ]
  },
  {
   "cell_type": "markdown",
   "metadata": {},
   "source": [
    "Ploting the cost history functions for each alpha:\n",
    "In the plot:\n",
    "green : alpha = 0.01\n",
    "blue : alpha = 0.1\n",
    "red : alpha = 1"
   ]
  },
  {
   "cell_type": "code",
   "execution_count": 79,
   "metadata": {},
   "outputs": [
    {
     "data": {
      "image/png": "[encoded data removed]",
      "text/plain": [
       "<Figure size 432x216 with 1 Axes>"
      ]
     },
     "metadata": {},
     "output_type": "display_data"
    }
   ],
   "source": [
    "w_vals = np.linspace(0,10,11)\n",
    "fig, ax = plt.subplots(1, 1, figsize=(6,3))\n",
    "ax.plot(w_vals,costs1, c='green')\n",
    "ax.plot(w_vals,costs2, c='blue')\n",
    "ax.plot(w_vals,costs3, c='red')\n",
    "plt.show()"
   ]
  },
  {
   "cell_type": "markdown",
   "metadata": {},
   "source": [
    "Here "
   ]
  },
  {
   "cell_type": "code",
   "execution_count": null,
   "metadata": {},
   "outputs": [],
   "source": []
  }
 ],
 "metadata": {
  "kernelspec": {
   "display_name": "Python 3",
   "language": "python",
   "name": "python3"
  },
  "language_info": {
   "codemirror_mode": {
    "name": "ipython",
    "version": 3
   },
   "file_extension": ".py",
   "mimetype": "text/x-python",
   "name": "python",
   "nbconvert_exporter": "python",
   "pygments_lexer": "ipython3",
   "version": "3.6.5"
  }
 },
 "nbformat": 4,
 "nbformat_minor": 2
}
